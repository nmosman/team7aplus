{
 "cells": [
  {
   "cell_type": "code",
   "execution_count": 2,
   "metadata": {
    "collapsed": false
   },
   "outputs": [],
   "source": [
    "import numpy as np\n",
    "from protocol import *"
   ]
  },
  {
   "cell_type": "markdown",
   "metadata": {},
   "source": [
    "# Testing the calibration"
   ]
  },
  {
   "cell_type": "code",
   "execution_count": null,
   "metadata": {
    "collapsed": false
   },
   "outputs": [],
   "source": [
    "msg = \"This is some random message that actually isn't all that long\"\n",
    "bin_msg = generate_fake_message(msg, ratio=4.5)"
   ]
  },
  {
   "cell_type": "code",
   "execution_count": null,
   "metadata": {
    "collapsed": false
   },
   "outputs": [],
   "source": [
    "ratio, hist = calibrate_protocol(bin_msg)"
   ]
  },
  {
   "cell_type": "code",
   "execution_count": 7,
   "metadata": {
    "collapsed": false
   },
   "outputs": [
    {
     "name": "stdout",
     "output_type": "stream",
     "text": [
      "The real ratio is: 4.5, the calibrated ratio is: 4.484848484848484\n"
     ]
    }
   ],
   "source": [
    "print('The real ratio is: {}, the calibrated ratio is: {}'.format(4.5, ratio))"
   ]
  },
  {
   "cell_type": "markdown",
   "metadata": {},
   "source": [
    "# Testing the protocol"
   ]
  },
  {
   "cell_type": "code",
   "execution_count": 45,
   "metadata": {
    "collapsed": false
   },
   "outputs": [],
   "source": [
    "def next_byte(ratio, min_len, testing_iter=None):\n",
    "    while True:\n",
    "        ignored_bits = ''\n",
    "        # Wait until a '\\x00' char to start reading data\n",
    "        # Wait until a 0 bit is read\n",
    "        next_bit = '1'\n",
    "        while next_bit == '1':\n",
    "            if testing_iter is None:\n",
    "                next_bit = str(rgpio.read(15)) # TODO: Change this line\n",
    "            else:\n",
    "                try:\n",
    "                    next_bit = str(next(testing_iter))\n",
    "                except StopIteration:\n",
    "                    return\n",
    "            ignored_bits += str(next_bit)\n",
    "\n",
    "        # Wait till length of current_bits is long enough for 7 real bits\n",
    "        current_bits = '0'\n",
    "        while True:\n",
    "            if testing_iter is None:\n",
    "                next_bit = str(rgpio.read(15)) # TODO: Change this line\n",
    "            else:\n",
    "                try:\n",
    "                    next_bit = str(next(testing_iter))\n",
    "                except StopIteration:\n",
    "                    return\n",
    "            ignored_bits += str(next_bit)\n",
    "            current_bits += str(next_bit)\n",
    "            if next_bit == 1:\n",
    "                current_bits = ''\n",
    "            if len(current_bits) > int(7*ratio) + 1:\n",
    "                break\n",
    "\n",
    "        if testing_iter is not None:\n",
    "            print('Ignored bits are:', ignored_bits)\n",
    "        # Start reading next byte\n",
    "        while True:\n",
    "            if testing_iter is not None:\n",
    "                print('Getting next byte:')\n",
    "                print('Bits are: \\'', end='')\n",
    "            byte = ''\n",
    "            current_bits = '0'\n",
    "            # Read rest of bits\n",
    "            count = 0\n",
    "            while True:\n",
    "                # Read bit (either till switch or min_length + 1 times)\n",
    "                if testing_iter is None:\n",
    "                    next_bit = str(rgpio.read(15)) # TODO: Change this line\n",
    "                else:\n",
    "                    try:\n",
    "                        next_bit = str(next(testing_iter))\n",
    "                    except StopIteration:\n",
    "                        return\n",
    "                    print(next_bit, end='')\n",
    "\n",
    "                if next_bit != current_bits[-1]: # Switch\n",
    "                    # Get the number of bits written \n",
    "                    num_bits = int(round(len(current_bits) / ratio))\n",
    "                    for i in range(num_bits):\n",
    "                        byte += current_bits[-1]\n",
    "                    current_bits = ''\n",
    "                current_bits += next_bit\n",
    "\n",
    "                if len(byte) >= 6:\n",
    "                    break\n",
    "\n",
    "\n",
    "            if testing_iter is not None:\n",
    "                print('\\nRead bits are:', byte)\n",
    "            byte = chr(int(byte, 2))\n",
    "            if testing_iter is not None:\n",
    "                print('Ascii is:', byte)\n",
    "            yield byte"
   ]
  },
  {
   "cell_type": "code",
   "execution_count": null,
   "metadata": {
    "collapsed": false
   },
   "outputs": [],
   "source": []
  },
  {
   "cell_type": "code",
   "execution_count": 46,
   "metadata": {
    "collapsed": false,
    "scrolled": false
   },
   "outputs": [
    {
     "name": "stdout",
     "output_type": "stream",
     "text": [
      "Char T, ascii 84, bin 0b1010100\n",
      "Char h, ascii 104, bin 0b1101000\n",
      "Char i, ascii 105, bin 0b1101001\n",
      "Char s, ascii 115, bin 0b1110011\n",
      "Char  , ascii 32, bin 0b100000\n",
      "Char i, ascii 105, bin 0b1101001\n",
      "Char s, ascii 115, bin 0b1110011\n",
      "Char  , ascii 32, bin 0b100000\n",
      "Char t, ascii 116, bin 0b1110100\n",
      "Char h, ascii 104, bin 0b1101000\n",
      "Char e, ascii 101, bin 0b1100101\n",
      "Char  , ascii 32, bin 0b100000\n",
      "Char t, ascii 116, bin 0b1110100\n",
      "Char e, ascii 101, bin 0b1100101\n",
      "Char s, ascii 115, bin 0b1110011\n",
      "Char t, ascii 116, bin 0b1110100\n",
      "Char  , ascii 32, bin 0b100000\n",
      "Char m, ascii 109, bin 0b1101101\n",
      "Char e, ascii 101, bin 0b1100101\n",
      "Char s, ascii 115, bin 0b1110011\n",
      "Char s, ascii 115, bin 0b1110011\n",
      "Char a, ascii 97, bin 0b1100001\n",
      "Char g, ascii 103, bin 0b1100111\n",
      "Char e, ascii 101, bin 0b1100101\n",
      "00000000000000000000000000000000111100000111100000111100000000011111111100000111100000000000000111111111000011111000000000111111111111111111000000000111111111111100000000000000000000000111111111000011111000000000111111111111111111000000000111111111111100000000000000000000000111111111111100000111100000000011111111100000111100000000000000111111111000000000111100000111111111000000000000000000000011111111111111000011111000000000111111111000000000111100000111111111111111111000000000111111111111111111111100000111100000000011111000000000000000000000011111111100000111111111000011111111111111000000000111100000111111111111111111000000000111111111111111111111100000000011111111111111111100000000000000000011111111111111000000000111111111111111111111100000000011111000011111\n"
     ]
    }
   ],
   "source": [
    "# Create a message to encode and decode\n",
    "msg = 'This is the test message'\n",
    "\n",
    "binary_msg = '0000000'+'0000000'+'0000000'+'0000000'+'0000' + generate_fake_message(msg)\n",
    "print(binary_msg)"
   ]
  },
  {
   "cell_type": "code",
   "execution_count": 50,
   "metadata": {
    "collapsed": true
   },
   "outputs": [],
   "source": [
    "def msg_iter(msg=binary_msg):\n",
    "    for bit in msg:\n",
    "        yield bit\n",
    "testing_iter = msg_iter()"
   ]
  },
  {
   "cell_type": "code",
   "execution_count": 51,
   "metadata": {
    "collapsed": false
   },
   "outputs": [
    {
     "name": "stdout",
     "output_type": "stream",
     "text": [
      "Ignored bits are: 000000000000000000000000000000001\n",
      "Getting next byte:\n",
      "Bits are: '1110000011110000011110000000001\n",
      "Read bits are: 1010100\n",
      "Ascii is: T\n",
      "Ignored bits are: 11111111000001111000000000000001111111110\n",
      "Getting next byte:\n",
      "Bits are: '000111110000000001111111111111111110\n",
      "Read bits are: 01001111\n",
      "Ascii is: O\n",
      "Ignored bits are: 000000001111111111111000000000000\n",
      "Getting next byte:\n",
      "Bits are: '0000000000011111111100001\n",
      "Read bits are: 000110\n",
      "Ascii is: \u0006\n",
      "Ignored bits are: 1111000000000111111111111111111000000\n",
      "Getting next byte:\n",
      "Bits are: '0001111111111111000000000000000000000001\n",
      "Read bits are: 011100000\n",
      "Ascii is: à\n",
      "Ignored bits are: 111111111111000001111000000000111111111000001\n",
      "Getting next byte:\n",
      "Bits are: '111000000000000001111111110\n",
      "Read bits are: 100011\n",
      "Ascii is: #\n",
      "Ignored bits are: 000000001111000001111111110000000\n",
      "Getting next byte:\n",
      "Bits are: '000000000000000111111111111110\n",
      "Read bits are: 0000111\n",
      "Ascii is: \u0007\n",
      "Ignored bits are: 000111110000000001111111110000000\n",
      "Getting next byte:\n",
      "Bits are: '001111000001111111111111111110\n",
      "Read bits are: 0101111\n",
      "Ascii is: /\n",
      "Ignored bits are: 000000001111111111111111111111000\n",
      "Getting next byte:\n",
      "Bits are: '0011110000000001111100000000000000000000001\n",
      "Read bits are: 0100100000\n",
      "Ascii is: Ġ\n",
      "Ignored bits are: 11111111000001111111110000111111111111110\n",
      "Getting next byte:\n",
      "Bits are: '000000001111000001111111111111111110\n",
      "Read bits are: 00101111\n",
      "Ascii is: /\n",
      "Ignored bits are: 000000001111111111111111111111000\n",
      "Getting next byte:\n",
      "Bits are: '0000001111111111111111110\n",
      "Read bits are: 001111\n",
      "Ascii is: \u000f\n",
      "Ignored bits are: 000000000000000001111111111111100\n",
      "Getting next byte:\n",
      "Bits are: '000000011111111111111111111110\n",
      "Read bits are: 0011111\n",
      "Ascii is: \u001f\n",
      "\n",
      "\n",
      "\n",
      "\n",
      "\n",
      "\n",
      "\n",
      "TO\u0006à#\u0007/Ġ/\u000f\u001f\n"
     ]
    }
   ],
   "source": [
    "re_created_msg = ''\n",
    "for _ in range(18):   \n",
    "    try:\n",
    "        re_created_msg += next(next_byte(4.5, 4, testing_iter=testing_iter))\n",
    "    except StopIteration:\n",
    "        print('')\n",
    "        \n",
    "print(re_created_msg)"
   ]
  },
  {
   "cell_type": "code",
   "execution_count": null,
   "metadata": {
    "collapsed": true
   },
   "outputs": [],
   "source": []
  },
  {
   "cell_type": "code",
   "execution_count": null,
   "metadata": {
    "collapsed": true
   },
   "outputs": [],
   "source": []
  }
 ],
 "metadata": {
  "anaconda-cloud": {},
  "kernelspec": {
   "display_name": "Python [conda env:400project]",
   "language": "python",
   "name": "conda-env-400project-py"
  },
  "language_info": {
   "codemirror_mode": {
    "name": "ipython",
    "version": 3
   },
   "file_extension": ".py",
   "mimetype": "text/x-python",
   "name": "python",
   "nbconvert_exporter": "python",
   "pygments_lexer": "ipython3",
   "version": "3.5.4"
  }
 },
 "nbformat": 4,
 "nbformat_minor": 1
}
